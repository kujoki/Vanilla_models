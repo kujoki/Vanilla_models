{
 "cells": [
  {
   "cell_type": "code",
   "execution_count": 1,
   "id": "initial_id",
   "metadata": {},
   "outputs": [],
   "source": [
    "import matplotlib.pyplot as plt\n",
    "import numpy as np\n",
    "import pandas as pd\n",
    "from scipy import stats\n",
    "from sklearn.metrics import (accuracy_score, classification_report,\n",
    "                             confusion_matrix, roc_auc_score)\n",
    "from sklearn.utils import resample\n",
    "\n",
    "%matplotlib inline\n",
    "\n",
    "import logging\n",
    "\n",
    "import torch\n",
    "import torchmetrics\n",
    "import torch.nn as nn\n",
    "import torch.optim as optim\n",
    "#from pytorch_lightning.loggers import TensorBoardLogger\n",
    "from sklearn import preprocessing\n",
    "from sklearn.model_selection import KFold\n",
    "from sklearn.utils import resample\n",
    "from torch.utils.data import DataLoader, TensorDataset\n",
    "from datetime import datetime\n"
   ]
  },
  {
   "cell_type": "code",
   "execution_count": 2,
   "id": "2d862d4f-c4c8-47e9-a811-636306a6a764",
   "metadata": {},
   "outputs": [
    {
     "name": "stderr",
     "output_type": "stream",
     "text": [
      "C:\\Users\\Katya\\AppData\\Local\\Temp\\ipykernel_3120\\379243730.py:5: SettingWithCopyWarning: \n",
      "A value is trying to be set on a copy of a slice from a DataFrame.\n",
      "Try using .loc[row_indexer,col_indexer] = value instead\n",
      "\n",
      "See the caveats in the documentation: https://pandas.pydata.org/pandas-docs/stable/user_guide/indexing.html#returning-a-view-versus-a-copy\n",
      "  filtred_df[0] = filtred_df[0].apply(lambda x: x.split(','))\n",
      "C:\\Users\\Katya\\AppData\\Local\\Temp\\ipykernel_3120\\379243730.py:10: SettingWithCopyWarning: \n",
      "A value is trying to be set on a copy of a slice from a DataFrame.\n",
      "Try using .loc[row_indexer,col_indexer] = value instead\n",
      "\n",
      "See the caveats in the documentation: https://pandas.pydata.org/pandas-docs/stable/user_guide/indexing.html#returning-a-view-versus-a-copy\n",
      "  filtred_df[f'{el}'] = filtred_df[0].apply(lambda x: x[i])\n",
      "C:\\Users\\Katya\\AppData\\Local\\Temp\\ipykernel_3120\\379243730.py:10: SettingWithCopyWarning: \n",
      "A value is trying to be set on a copy of a slice from a DataFrame.\n",
      "Try using .loc[row_indexer,col_indexer] = value instead\n",
      "\n",
      "See the caveats in the documentation: https://pandas.pydata.org/pandas-docs/stable/user_guide/indexing.html#returning-a-view-versus-a-copy\n",
      "  filtred_df[f'{el}'] = filtred_df[0].apply(lambda x: x[i])\n",
      "C:\\Users\\Katya\\AppData\\Local\\Temp\\ipykernel_3120\\379243730.py:10: SettingWithCopyWarning: \n",
      "A value is trying to be set on a copy of a slice from a DataFrame.\n",
      "Try using .loc[row_indexer,col_indexer] = value instead\n",
      "\n",
      "See the caveats in the documentation: https://pandas.pydata.org/pandas-docs/stable/user_guide/indexing.html#returning-a-view-versus-a-copy\n",
      "  filtred_df[f'{el}'] = filtred_df[0].apply(lambda x: x[i])\n",
      "C:\\Users\\Katya\\AppData\\Local\\Temp\\ipykernel_3120\\379243730.py:10: SettingWithCopyWarning: \n",
      "A value is trying to be set on a copy of a slice from a DataFrame.\n",
      "Try using .loc[row_indexer,col_indexer] = value instead\n",
      "\n",
      "See the caveats in the documentation: https://pandas.pydata.org/pandas-docs/stable/user_guide/indexing.html#returning-a-view-versus-a-copy\n",
      "  filtred_df[f'{el}'] = filtred_df[0].apply(lambda x: x[i])\n",
      "C:\\Users\\Katya\\AppData\\Local\\Temp\\ipykernel_3120\\379243730.py:10: SettingWithCopyWarning: \n",
      "A value is trying to be set on a copy of a slice from a DataFrame.\n",
      "Try using .loc[row_indexer,col_indexer] = value instead\n",
      "\n",
      "See the caveats in the documentation: https://pandas.pydata.org/pandas-docs/stable/user_guide/indexing.html#returning-a-view-versus-a-copy\n",
      "  filtred_df[f'{el}'] = filtred_df[0].apply(lambda x: x[i])\n",
      "C:\\Users\\Katya\\AppData\\Local\\Temp\\ipykernel_3120\\379243730.py:12: SettingWithCopyWarning: \n",
      "A value is trying to be set on a copy of a slice from a DataFrame.\n",
      "Try using .loc[row_indexer,col_indexer] = value instead\n",
      "\n",
      "See the caveats in the documentation: https://pandas.pydata.org/pandas-docs/stable/user_guide/indexing.html#returning-a-view-versus-a-copy\n",
      "  filtred_df[f'{el}'] = filtred_df[0].apply(lambda x: x[i][:-1])\n"
     ]
    }
   ],
   "source": [
    "df = pd.read_csv(\"WISDM_ar_v1.1_raw.txt\", sep = ' ', header = None)\n",
    "\n",
    "df['lenght'] = df[0].apply(lambda x: x.split(',')).apply(lambda x: len(x))\n",
    "filtred_df = df[~df['lenght'].isin([7, 11])]\n",
    "filtred_df[0] = filtred_df[0].apply(lambda x: x.split(','))\n",
    "\n",
    "columns = ['user','activity','timestamp', 'x-axis', 'y-axis', 'z-axis']\n",
    "for i, el in enumerate(columns):\n",
    "  if i != len(columns)-1:\n",
    "    filtred_df[f'{el}'] = filtred_df[0].apply(lambda x: x[i])\n",
    "  else:\n",
    "    filtred_df[f'{el}'] = filtred_df[0].apply(lambda x: x[i][:-1])\n",
    "\n",
    "filtred_df = filtred_df.drop(columns = [0, 'lenght', 'timestamp'])"
   ]
  },
  {
   "cell_type": "code",
   "execution_count": 3,
   "id": "2cc90d27-cad8-46a3-aba8-e35b87a83f1f",
   "metadata": {},
   "outputs": [],
   "source": [
    "le = preprocessing.LabelEncoder()\n",
    "filtred_df['activity'] = le.fit_transform(filtred_df['activity'])\n",
    "\n",
    "def transform(x):\n",
    "  try:\n",
    "    x = float(x)\n",
    "  except ValueError:\n",
    "    x = np.nan\n",
    "  return x\n",
    "\n",
    "for el in filtred_df.columns:\n",
    "  filtred_df[el] = filtred_df[el].apply(lambda x: transform(x))"
   ]
  },
  {
   "cell_type": "code",
   "execution_count": 4,
   "id": "f3fb9529-4897-41da-87e1-7cf7a8aedf29",
   "metadata": {},
   "outputs": [],
   "source": [
    "for col in ['x-axis', 'y-axis', 'z-axis']:\n",
    "  mean_value = filtred_df[col].mean()\n",
    "  sigma = filtred_df[col].std()\n",
    "  filtred_df[col] = filtred_df[col].apply(lambda x: (x-mean_value)/sigma)"
   ]
  },
  {
   "cell_type": "code",
   "execution_count": 5,
   "id": "a38151f0-017f-4a15-bb4a-d0f92ec19ced",
   "metadata": {},
   "outputs": [],
   "source": [
    "def group_by_user(df, user):\n",
    "  return df[df['user'] == user].reset_index(drop = True)\n",
    "\n",
    "def create_window(df, overlay, window_size, train_x, train_y):\n",
    "  for i in range(0, df.shape[0], overlay):\n",
    "    df_sub = df.iloc[i:i+window_size]\n",
    "\n",
    "    if df_sub.shape[0] == window_size:\n",
    "      train_x.append(df_sub[['x-axis', 'y-axis', 'z-axis']].to_numpy())\n",
    "      train_y.append(df_sub['activity'].mode().iloc[0])\n",
    "\n",
    "  return train_x, train_y\n"
   ]
  },
  {
   "cell_type": "code",
   "execution_count": 6,
   "id": "3b52f81f-66a8-4423-95cd-073fcffe0593",
   "metadata": {},
   "outputs": [
    {
     "name": "stdout",
     "output_type": "stream",
     "text": [
      "7968 7968\n"
     ]
    }
   ],
   "source": [
    "train_x = []\n",
    "train_y = []\n",
    "\n",
    "window_size = 100\n",
    "overlay = 50\n",
    "\n",
    "users = filtred_df['user'].unique().tolist()[:12]\n",
    "for user in users:\n",
    "  df_user = group_by_user(filtred_df, user)\n",
    "  create_window(df_user, overlay, window_size, train_x, train_y)\n",
    "\n",
    "print (len(train_x), len(train_y))"
   ]
  },
  {
   "cell_type": "code",
   "execution_count": 7,
   "id": "1a36534e-a882-4a1a-9502-d0d785059f58",
   "metadata": {},
   "outputs": [
    {
     "name": "stdout",
     "output_type": "stream",
     "text": [
      "3381 3381\n"
     ]
    }
   ],
   "source": [
    "test_x = []\n",
    "test_y = []\n",
    "\n",
    "users = filtred_df['user'].unique().tolist()[12:18]\n",
    "for user in users:\n",
    "  df_user = group_by_user(filtred_df, user)\n",
    "  create_window(df_user, overlay, window_size, test_x, test_y)\n",
    "\n",
    "print (len(test_x), len(test_y))"
   ]
  },
  {
   "cell_type": "code",
   "execution_count": 8,
   "id": "31e4d916-2a7d-4b7b-b436-7a6fcd5d1717",
   "metadata": {},
   "outputs": [
    {
     "name": "stdout",
     "output_type": "stream",
     "text": [
      "8067 8067\n"
     ]
    }
   ],
   "source": [
    "control_x = []\n",
    "control_y = []\n",
    "\n",
    "users = filtred_df['user'].unique().tolist()[18:32]\n",
    "for user in users:\n",
    "  df_user = group_by_user(filtred_df, user)\n",
    "  create_window(df_user, overlay, window_size, control_x, control_y)\n",
    "\n",
    "print (len(control_x), len(control_y))"
   ]
  },
  {
   "cell_type": "code",
   "execution_count": 9,
   "id": "21892783-f1ad-47c6-b0b0-a30d7d60e4c6",
   "metadata": {},
   "outputs": [],
   "source": [
    "train_dataset = TensorDataset(torch.tensor(np.array(train_x), dtype=torch.float32), torch.tensor(np.array(train_y).reshape(-1, 1), dtype=torch.float32))\n",
    "train_loader = DataLoader(train_dataset, batch_size=256, shuffle=False, drop_last = True)\n",
    "\n",
    "test_dataset = TensorDataset(torch.tensor(np.array(test_x), dtype=torch.float32), torch.tensor(np.array(test_y).reshape(-1, 1), dtype=torch.float32))\n",
    "test_loader = DataLoader(test_dataset, batch_size=256, shuffle=False, drop_last = True)\n",
    "\n",
    "control_dataset = TensorDataset(torch.tensor(np.array(control_x), dtype=torch.float32), torch.tensor(np.array(control_y).reshape(-1, 1), dtype=torch.float32))\n",
    "control_loader = DataLoader(control_dataset, batch_size=256, shuffle=False, drop_last = True)"
   ]
  },
  {
   "cell_type": "code",
   "execution_count": 10,
   "id": "43f87829-caf6-4612-8ec9-6312c36d00c9",
   "metadata": {},
   "outputs": [
    {
     "name": "stdout",
     "output_type": "stream",
     "text": [
      "torch.Size([256, 100, 3]) torch.Size([256, 1])\n"
     ]
    }
   ],
   "source": [
    "for inputs, labels in train_loader:\n",
    "  print (inputs.shape, labels.shape)\n",
    "  break"
   ]
  },
  {
   "cell_type": "code",
   "execution_count": 11,
   "id": "a27f908f-b752-45d2-8333-8f634ae71e9b",
   "metadata": {},
   "outputs": [
    {
     "name": "stdout",
     "output_type": "stream",
     "text": [
      "torch.Size([256, 100, 3]) torch.Size([256, 1])\n"
     ]
    }
   ],
   "source": [
    "for inputs, labels in test_loader:\n",
    "  print (inputs.shape, labels.shape)\n",
    "  break"
   ]
  },
  {
   "cell_type": "code",
   "execution_count": 12,
   "id": "18817aee-8c64-4ba4-80c4-dad32750299a",
   "metadata": {},
   "outputs": [],
   "source": [
    "class LSTMModel(nn.Module):\n",
    "    def __init__(self, input_dim, hidden_dim, layer_dim, output_dim, dropout_prob, batch_size):\n",
    "        super(LSTMModel, self).__init__()\n",
    "\n",
    "        self.hidden_dim = hidden_dim\n",
    "        self.batch_size = batch_size\n",
    "        self.layer_dim = layer_dim\n",
    "\n",
    "        self.rnn = nn.LSTM(\n",
    "            input_dim, hidden_dim, layer_dim, batch_first=True, dropout=dropout_prob\n",
    "        )\n",
    "        self.fc = nn.Linear(hidden_dim, output_dim)\n",
    "\n",
    "    def forward(self, x):\n",
    "        h0 = torch.randn(self.layer_dim, self.batch_size, self.hidden_dim, device=x.device).requires_grad_()\n",
    "        c0 = torch.randn(self.layer_dim, self.batch_size, self.hidden_dim, device=x.device).requires_grad_()\n",
    "\n",
    "        out, (h0, c0) = self.rnn(x, (h0, c0))\n",
    "        out = out[:, -1, :]\n",
    "        out = self.fc(out)\n",
    "        return out"
   ]
  },
  {
   "cell_type": "code",
   "execution_count": 13,
   "id": "92ac2104-ea9a-4dbe-9d80-446a2e1995cc",
   "metadata": {},
   "outputs": [],
   "source": [
    "device = torch.device(\"cuda:0\" if torch.cuda.is_available() else \"cpu\")\n",
    "model = LSTMModel(input_dim = 3, hidden_dim = 256, layer_dim = 3, output_dim = 6, dropout_prob = 0.3 , batch_size = 256).to(device)\n",
    "optimizer = torch.optim.Adam(model.parameters(), lr=1e-5)\n",
    "criterion = nn.CrossEntropyLoss()"
   ]
  },
  {
   "cell_type": "code",
   "execution_count": 14,
   "id": "bbe74383-e74d-4598-b22e-a1565f0747e2",
   "metadata": {},
   "outputs": [],
   "source": [
    "def calculate_accuracy(y_true, y_pred):\n",
    "    y_pred_labels = np.argmax(y_pred, axis=1)\n",
    "    accuracy = accuracy_score(y_true, y_pred_labels)\n",
    "    return accuracy"
   ]
  },
  {
   "cell_type": "code",
   "execution_count": 16,
   "id": "6bac469f-7687-419e-a144-7ec355e7e77d",
   "metadata": {},
   "outputs": [
    {
     "name": "stdout",
     "output_type": "stream",
     "text": [
      "epochs 1/50\n",
      "train_loss 1.738488793373108, train_accuracy 0.3467741935483871\n",
      "validation_loss 1.5944926738739014, validation_accuracy 0.4636418269230769\n",
      "epochs 2/50\n",
      "train_loss 1.732499122619629, train_accuracy 0.3467741935483871\n",
      "validation_loss 1.5878939628601074, validation_accuracy 0.4636418269230769\n",
      "epochs 3/50\n",
      "train_loss 1.725602626800537, train_accuracy 0.3467741935483871\n",
      "validation_loss 1.580168604850769, validation_accuracy 0.4636418269230769\n",
      "epochs 4/50\n",
      "train_loss 1.7173653841018677, train_accuracy 0.3467741935483871\n",
      "validation_loss 1.5707582235336304, validation_accuracy 0.4636418269230769\n",
      "epochs 5/50\n",
      "train_loss 1.707079291343689, train_accuracy 0.3467741935483871\n",
      "validation_loss 1.5586577653884888, validation_accuracy 0.4636418269230769\n",
      "epochs 6/50\n",
      "train_loss 1.6935126781463623, train_accuracy 0.3467741935483871\n",
      "validation_loss 1.5419280529022217, validation_accuracy 0.4636418269230769\n",
      "epochs 7/50\n",
      "train_loss 1.6737850904464722, train_accuracy 0.3467741935483871\n",
      "validation_loss 1.5161914825439453, validation_accuracy 0.4636418269230769\n",
      "epochs 8/50\n",
      "train_loss 1.6412636041641235, train_accuracy 0.3467741935483871\n",
      "validation_loss 1.4698355197906494, validation_accuracy 0.4636418269230769\n",
      "epochs 9/50\n",
      "train_loss 1.5783166885375977, train_accuracy 0.3467741935483871\n",
      "validation_loss 1.3756904602050781, validation_accuracy 0.4636418269230769\n",
      "epochs 10/50\n",
      "train_loss 1.4973288774490356, train_accuracy 0.3467741935483871\n",
      "validation_loss 1.3211159706115723, validation_accuracy 0.4636418269230769\n",
      "epochs 11/50\n",
      "train_loss 1.4818010330200195, train_accuracy 0.3467741935483871\n",
      "validation_loss 1.316964864730835, validation_accuracy 0.4636418269230769\n",
      "epochs 12/50\n",
      "train_loss 1.4724982976913452, train_accuracy 0.3467741935483871\n",
      "validation_loss 1.3125630617141724, validation_accuracy 0.4636418269230769\n",
      "epochs 13/50\n",
      "train_loss 1.465561032295227, train_accuracy 0.3467741935483871\n",
      "validation_loss 1.3083354234695435, validation_accuracy 0.4636418269230769\n",
      "epochs 14/50\n",
      "train_loss 1.4596281051635742, train_accuracy 0.3467741935483871\n",
      "validation_loss 1.30436372756958, validation_accuracy 0.4636418269230769\n",
      "epochs 15/50\n",
      "train_loss 1.4537737369537354, train_accuracy 0.3471522177419355\n",
      "validation_loss 1.3006457090377808, validation_accuracy 0.4636418269230769\n",
      "epochs 16/50\n",
      "train_loss 1.448618769645691, train_accuracy 0.3472782258064516\n",
      "validation_loss 1.2971036434173584, validation_accuracy 0.4636418269230769\n",
      "epochs 17/50\n",
      "train_loss 1.443908452987671, train_accuracy 0.3480342741935484\n",
      "validation_loss 1.293771743774414, validation_accuracy 0.4636418269230769\n",
      "epochs 18/50\n",
      "train_loss 1.4397881031036377, train_accuracy 0.34904233870967744\n",
      "validation_loss 1.2906466722488403, validation_accuracy 0.4636418269230769\n",
      "epochs 19/50\n",
      "train_loss 1.4356892108917236, train_accuracy 0.35080645161290325\n",
      "validation_loss 1.2877131700515747, validation_accuracy 0.46334134615384615\n",
      "epochs 20/50\n",
      "train_loss 1.4320272207260132, train_accuracy 0.35181451612903225\n",
      "validation_loss 1.2849783897399902, validation_accuracy 0.46304086538461536\n",
      "epochs 21/50\n",
      "train_loss 1.4280909299850464, train_accuracy 0.3549647177419355\n",
      "validation_loss 1.2824229001998901, validation_accuracy 0.4618389423076923\n",
      "epochs 22/50\n",
      "train_loss 1.4245615005493164, train_accuracy 0.35698084677419356\n",
      "validation_loss 1.28006112575531, validation_accuracy 0.4606370192307692\n",
      "epochs 23/50\n",
      "train_loss 1.4209107160568237, train_accuracy 0.3600050403225806\n",
      "validation_loss 1.2778559923171997, validation_accuracy 0.4645432692307692\n",
      "epochs 24/50\n",
      "train_loss 1.4174031019210815, train_accuracy 0.3623991935483871\n",
      "validation_loss 1.2758312225341797, validation_accuracy 0.47085336538461536\n",
      "epochs 25/50\n",
      "train_loss 1.414608359336853, train_accuracy 0.3641633064516129\n",
      "validation_loss 1.2739944458007812, validation_accuracy 0.47866586538461536\n",
      "epochs 26/50\n",
      "train_loss 1.4110803604125977, train_accuracy 0.3693296370967742\n",
      "validation_loss 1.2723004817962646, validation_accuracy 0.48677884615384615\n",
      "epochs 27/50\n",
      "train_loss 1.4082895517349243, train_accuracy 0.37600806451612906\n",
      "validation_loss 1.2707538604736328, validation_accuracy 0.4918870192307692\n",
      "epochs 28/50\n",
      "train_loss 1.4055711030960083, train_accuracy 0.38041834677419356\n",
      "validation_loss 1.2693232297897339, validation_accuracy 0.49669471153846156\n",
      "epochs 29/50\n",
      "train_loss 1.4029414653778076, train_accuracy 0.3873487903225806\n",
      "validation_loss 1.2680118083953857, validation_accuracy 0.5018028846153846\n",
      "epochs 30/50\n",
      "train_loss 1.4001367092132568, train_accuracy 0.39742943548387094\n",
      "validation_loss 1.2668204307556152, validation_accuracy 0.5042067307692307\n",
      "epochs 31/50\n",
      "train_loss 1.3978767395019531, train_accuracy 0.4044858870967742\n",
      "validation_loss 1.2657277584075928, validation_accuracy 0.5021033653846154\n",
      "epochs 32/50\n",
      "train_loss 1.3948599100112915, train_accuracy 0.40814012096774194\n",
      "validation_loss 1.2647007703781128, validation_accuracy 0.47896634615384615\n",
      "epochs 33/50\n",
      "train_loss 1.3927849531173706, train_accuracy 0.41154233870967744\n",
      "validation_loss 1.2637767791748047, validation_accuracy 0.47055288461538464\n",
      "epochs 34/50\n",
      "train_loss 1.3908768892288208, train_accuracy 0.4162046370967742\n",
      "validation_loss 1.2628835439682007, validation_accuracy 0.4684495192307692\n",
      "epochs 35/50\n",
      "train_loss 1.3882039785385132, train_accuracy 0.4206149193548387\n",
      "validation_loss 1.262013554573059, validation_accuracy 0.46243990384615385\n",
      "epochs 36/50\n",
      "train_loss 1.3862534761428833, train_accuracy 0.41721270161290325\n",
      "validation_loss 1.2612559795379639, validation_accuracy 0.45883413461538464\n",
      "epochs 37/50\n",
      "train_loss 1.3839378356933594, train_accuracy 0.41897681451612906\n",
      "validation_loss 1.2605061531066895, validation_accuracy 0.45072115384615385\n",
      "epochs 38/50\n",
      "train_loss 1.3814740180969238, train_accuracy 0.42389112903225806\n",
      "validation_loss 1.2596909999847412, validation_accuracy 0.4411057692307692\n",
      "epochs 39/50\n",
      "train_loss 1.3795853853225708, train_accuracy 0.4293094758064516\n",
      "validation_loss 1.2589123249053955, validation_accuracy 0.43359375\n",
      "epochs 40/50\n",
      "train_loss 1.377070665359497, train_accuracy 0.4342237903225806\n",
      "validation_loss 1.2581042051315308, validation_accuracy 0.42758413461538464\n",
      "epochs 41/50\n",
      "train_loss 1.3742924928665161, train_accuracy 0.4405241935483871\n",
      "validation_loss 1.2572438716888428, validation_accuracy 0.4227764423076923\n",
      "epochs 42/50\n",
      "train_loss 1.372052788734436, train_accuracy 0.44556451612903225\n",
      "validation_loss 1.256325364112854, validation_accuracy 0.4209735576923077\n",
      "epochs 43/50\n",
      "train_loss 1.3686858415603638, train_accuracy 0.4493447580645161\n",
      "validation_loss 1.255434513092041, validation_accuracy 0.4221754807692308\n",
      "epochs 44/50\n",
      "train_loss 1.365024447441101, train_accuracy 0.4598034274193548\n",
      "validation_loss 1.2543244361877441, validation_accuracy 0.4011418269230769\n",
      "epochs 45/50\n",
      "train_loss 1.3609483242034912, train_accuracy 0.4722782258064516\n",
      "validation_loss 1.252966046333313, validation_accuracy 0.36929086538461536\n",
      "epochs 46/50\n",
      "train_loss 1.3563967943191528, train_accuracy 0.48412298387096775\n",
      "validation_loss 1.251404881477356, validation_accuracy 0.3596754807692308\n",
      "epochs 47/50\n",
      "train_loss 1.3500926494598389, train_accuracy 0.5079385080645161\n",
      "validation_loss 1.2493298053741455, validation_accuracy 0.3858173076923077\n",
      "epochs 48/50\n",
      "train_loss 1.3421785831451416, train_accuracy 0.5296118951612904\n",
      "validation_loss 1.2466005086898804, validation_accuracy 0.4167668269230769\n",
      "epochs 49/50\n",
      "train_loss 1.3318361043930054, train_accuracy 0.5442288306451613\n",
      "validation_loss 1.243577480316162, validation_accuracy 0.4305889423076923\n",
      "epochs 50/50\n",
      "train_loss 1.317981481552124, train_accuracy 0.5588457661290323\n",
      "validation_loss 1.2418328523635864, validation_accuracy 0.44080528846153844\n"
     ]
    }
   ],
   "source": [
    "import gc\n",
    "train_losses = []\n",
    "valid_losses = []\n",
    "def train():\n",
    "\n",
    "    running_loss = .0\n",
    "    y_true = []\n",
    "    y_pred_probs = []\n",
    "    model.train()\n",
    "\n",
    "    for idx, (inputs,labels) in enumerate(train_loader):\n",
    "        inputs = inputs.to(device)\n",
    "        labels = labels.to(device)\n",
    "        optimizer.zero_grad()\n",
    "        preds = model(inputs.float())\n",
    "        loss = criterion(preds, labels.squeeze().long())\n",
    "        loss.backward()\n",
    "        optimizer.step()\n",
    "        running_loss += loss\n",
    "\n",
    "        y_true.extend(labels.cpu().numpy())\n",
    "        y_pred_probs.extend(preds.detach().cpu().numpy())\n",
    "\n",
    "    train_loss = running_loss/len(train_loader)\n",
    "    train_losses.append(train_loss.detach().numpy())\n",
    "\n",
    "    y_true = np.array(y_true)\n",
    "    y_pred_probs = np.array(y_pred_probs)\n",
    "    accuracy = calculate_accuracy(y_true, y_pred_probs)\n",
    "\n",
    "    print(f'train_loss {train_loss}, train_accuracy {accuracy}')\n",
    "\n",
    "    return train_losses\n",
    "\n",
    "def valid():\n",
    "    running_loss = .0\n",
    "    y_true = []\n",
    "    y_pred_probs = []\n",
    "    model.eval()\n",
    "\n",
    "    with torch.no_grad():\n",
    "        for idx, (inputs, labels) in enumerate(test_loader):\n",
    "            inputs = inputs.to(device)\n",
    "            labels = labels.to(device)\n",
    "            optimizer.zero_grad()\n",
    "            preds = model(inputs.float())\n",
    "            loss = criterion(preds, labels.squeeze().long())\n",
    "            \n",
    "            if not loss.isnan():\n",
    "              running_loss += loss\n",
    "                \n",
    "            y_true.extend(labels.cpu().numpy())\n",
    "            y_pred_probs.extend(preds.detach().cpu().numpy())\n",
    "\n",
    "        valid_loss = running_loss/len(test_loader)\n",
    "        valid_losses.append(valid_loss.detach().numpy())\n",
    "\n",
    "        y_true = np.array(y_true)\n",
    "        y_pred_probs = np.array(y_pred_probs)\n",
    "        accuracy = calculate_accuracy(y_true, y_pred_probs)\n",
    "\n",
    "        print(f'validation_loss {valid_loss}, validation_accuracy {accuracy}')\n",
    "    return valid_losses, accuracy\n",
    "\n",
    "epochs = 50\n",
    "for epoch in range(epochs):\n",
    "    print('epochs {}/{}'.format(epoch+1,epochs))\n",
    "    train_losses = train()\n",
    "    valid_losses, _ = valid()\n",
    "    gc.collect()"
   ]
  },
  {
   "cell_type": "code",
   "execution_count": 17,
   "id": "b576b5ec-20d8-4d64-9673-1bbe058c72b7",
   "metadata": {},
   "outputs": [
    {
     "data": {
      "image/png": "[encoded data removed]",
      "text/plain": [
       "<Figure size 640x480 with 1 Axes>"
      ]
     },
     "metadata": {},
     "output_type": "display_data"
    }
   ],
   "source": [
    "plt.plot(train_losses, label='Train Loss')\n",
    "plt.xlabel('Epoch')\n",
    "plt.ylabel('Loss')\n",
    "plt.legend()\n",
    "plt.show()"
   ]
  },
  {
   "cell_type": "code",
   "execution_count": 18,
   "id": "d6bbcf80-dd59-4039-b67c-0daabb28f39b",
   "metadata": {},
   "outputs": [
    {
     "data": {
      "image/png": "[encoded data removed]",
      "text/plain": [
       "<Figure size 640x480 with 1 Axes>"
      ]
     },
     "metadata": {},
     "output_type": "display_data"
    }
   ],
   "source": [
    "plt.plot(valid_losses, label='Valid Loss')\n",
    "plt.xlabel('Epoch')\n",
    "plt.ylabel('Loss')\n",
    "plt.legend()\n",
    "plt.show()"
   ]
  },
  {
   "cell_type": "code",
   "execution_count": 19,
   "id": "512897ec-64ff-4e17-892b-4eb4b483adf6",
   "metadata": {},
   "outputs": [
    {
     "name": "stdout",
     "output_type": "stream",
     "text": [
      "              precision    recall  f1-score   support\n",
      "\n",
      "           1       0.00      0.00      0.00       802\n",
      "           2       0.45      0.60      0.51      2413\n",
      "           3       0.97      0.62      0.75       307\n",
      "           4       0.00      0.00      0.00       359\n",
      "           5       0.00      0.00      0.00      1080\n",
      "           6       0.50      0.75      0.60      2975\n",
      "\n",
      "    accuracy                           0.49      7936\n",
      "   macro avg       0.32      0.33      0.31      7936\n",
      "weighted avg       0.36      0.49      0.41      7936\n",
      "\n",
      " control_accuracy 0.4900453629032258\n"
     ]
    },
    {
     "name": "stderr",
     "output_type": "stream",
     "text": [
      "C:\\Users\\Katya\\Documents\\fastApi_Project\\pythonProject1\\lib\\site-packages\\sklearn\\metrics\\_classification.py:1469: UndefinedMetricWarning: Precision and F-score are ill-defined and being set to 0.0 in labels with no predicted samples. Use `zero_division` parameter to control this behavior.\n",
      "  _warn_prf(average, modifier, msg_start, len(result))\n",
      "C:\\Users\\Katya\\Documents\\fastApi_Project\\pythonProject1\\lib\\site-packages\\sklearn\\metrics\\_classification.py:1469: UndefinedMetricWarning: Precision and F-score are ill-defined and being set to 0.0 in labels with no predicted samples. Use `zero_division` parameter to control this behavior.\n",
      "  _warn_prf(average, modifier, msg_start, len(result))\n",
      "C:\\Users\\Katya\\Documents\\fastApi_Project\\pythonProject1\\lib\\site-packages\\sklearn\\metrics\\_classification.py:1469: UndefinedMetricWarning: Precision and F-score are ill-defined and being set to 0.0 in labels with no predicted samples. Use `zero_division` parameter to control this behavior.\n",
      "  _warn_prf(average, modifier, msg_start, len(result))\n"
     ]
    }
   ],
   "source": [
    "y_true = []\n",
    "y_pred_probs = []\n",
    "model.eval()\n",
    "\n",
    "with torch.no_grad():\n",
    "    for idx, (inputs, labels) in enumerate(control_loader):\n",
    "        inputs = inputs.to(device)\n",
    "        labels = labels.to(device)\n",
    "        #optimizer.zero_grad()\n",
    "        preds = model(inputs.float())\n",
    "        loss = criterion(preds, labels.squeeze().long())\n",
    "        y_true.extend(labels.cpu().numpy())\n",
    "        y_pred_probs.extend(preds.detach().cpu().numpy())\n",
    "\n",
    "    y_true = np.array(y_true)\n",
    "    y_pred_probs = np.array(y_pred_probs)\n",
    "    class_names = [str(x) for x in range(1,7)]\n",
    "    report = classification_report(y_true, np.argmax(y_pred_probs, axis=1), target_names=class_names)\n",
    "    print(report)\n",
    "    accuracy = calculate_accuracy(y_true, y_pred_probs)\n",
    "\n",
    "    print(f' control_accuracy {accuracy}')"
   ]
  },
  {
   "cell_type": "code",
   "execution_count": 20,
   "id": "c0210251-a5df-40a3-9a35-72f8c80eb990",
   "metadata": {},
   "outputs": [
    {
     "name": "stdout",
     "output_type": "stream",
     "text": [
      "              precision    recall  f1-score   support\n",
      "\n",
      "           1       0.00      0.00      0.00       331\n",
      "           2       0.34      0.60      0.44       855\n",
      "           3       0.00      0.00      0.00        92\n",
      "           4       0.00      0.00      0.00       126\n",
      "           5       0.00      0.00      0.00       379\n",
      "           6       0.52      0.62      0.57      1545\n",
      "\n",
      "    accuracy                           0.44      3328\n",
      "   macro avg       0.14      0.20      0.17      3328\n",
      "weighted avg       0.33      0.44      0.37      3328\n",
      "\n",
      "test_accuracy 0.44080528846153844\n"
     ]
    },
    {
     "name": "stderr",
     "output_type": "stream",
     "text": [
      "C:\\Users\\Katya\\Documents\\fastApi_Project\\pythonProject1\\lib\\site-packages\\sklearn\\metrics\\_classification.py:1469: UndefinedMetricWarning: Precision and F-score are ill-defined and being set to 0.0 in labels with no predicted samples. Use `zero_division` parameter to control this behavior.\n",
      "  _warn_prf(average, modifier, msg_start, len(result))\n",
      "C:\\Users\\Katya\\Documents\\fastApi_Project\\pythonProject1\\lib\\site-packages\\sklearn\\metrics\\_classification.py:1469: UndefinedMetricWarning: Precision and F-score are ill-defined and being set to 0.0 in labels with no predicted samples. Use `zero_division` parameter to control this behavior.\n",
      "  _warn_prf(average, modifier, msg_start, len(result))\n",
      "C:\\Users\\Katya\\Documents\\fastApi_Project\\pythonProject1\\lib\\site-packages\\sklearn\\metrics\\_classification.py:1469: UndefinedMetricWarning: Precision and F-score are ill-defined and being set to 0.0 in labels with no predicted samples. Use `zero_division` parameter to control this behavior.\n",
      "  _warn_prf(average, modifier, msg_start, len(result))\n"
     ]
    }
   ],
   "source": [
    "y_true = []\n",
    "y_pred_probs = []\n",
    "model.eval()\n",
    "\n",
    "with torch.no_grad():\n",
    "    for idx, (inputs, labels) in enumerate(test_loader):\n",
    "        inputs = inputs.to(device)\n",
    "        labels = labels.to(device)\n",
    "        #optimizer.zero_grad()\n",
    "        preds = model(inputs.float())\n",
    "        loss = criterion(preds, labels.squeeze().long())\n",
    "        y_true.extend(labels.cpu().numpy())\n",
    "        y_pred_probs.extend(preds.detach().cpu().numpy())\n",
    "\n",
    "    y_true = np.array(y_true)\n",
    "    y_pred_probs = np.array(y_pred_probs)\n",
    "    class_names =[str(x) for x in range(1,7)]\n",
    "    report = classification_report(y_true, np.argmax(y_pred_probs, axis=1), target_names=class_names)\n",
    "    print(report)\n",
    "    accuracy = calculate_accuracy(y_true, y_pred_probs)\n",
    "\n",
    "    print(f'test_accuracy {accuracy}')"
   ]
  },
  {
   "cell_type": "code",
   "execution_count": 40,
   "id": "d2ccddb5-f529-4c99-ad4a-6bc5e8292eb0",
   "metadata": {},
   "outputs": [
    {
     "name": "stdout",
     "output_type": "stream",
     "text": [
      "              precision    recall  f1-score   support\n",
      "\n",
      "           1       0.00      0.00      0.00       741\n",
      "           2       0.01      0.00      0.00      2586\n",
      "           3       0.00      0.00      0.00       662\n",
      "           4       0.00      0.00      0.00       378\n",
      "           5       0.00      0.00      0.00       817\n",
      "           6       0.37      1.00      0.54      2752\n",
      "\n",
      "    accuracy                           0.35      7936\n",
      "   macro avg       0.06      0.17      0.09      7936\n",
      "weighted avg       0.13      0.35      0.19      7936\n",
      "\n",
      "train_accuracy 0.3471522177419355\n"
     ]
    },
    {
     "name": "stderr",
     "output_type": "stream",
     "text": [
      "C:\\Users\\Katya\\Documents\\fastApi_Project\\pythonProject1\\lib\\site-packages\\sklearn\\metrics\\_classification.py:1469: UndefinedMetricWarning: Precision and F-score are ill-defined and being set to 0.0 in labels with no predicted samples. Use `zero_division` parameter to control this behavior.\n",
      "  _warn_prf(average, modifier, msg_start, len(result))\n",
      "C:\\Users\\Katya\\Documents\\fastApi_Project\\pythonProject1\\lib\\site-packages\\sklearn\\metrics\\_classification.py:1469: UndefinedMetricWarning: Precision and F-score are ill-defined and being set to 0.0 in labels with no predicted samples. Use `zero_division` parameter to control this behavior.\n",
      "  _warn_prf(average, modifier, msg_start, len(result))\n",
      "C:\\Users\\Katya\\Documents\\fastApi_Project\\pythonProject1\\lib\\site-packages\\sklearn\\metrics\\_classification.py:1469: UndefinedMetricWarning: Precision and F-score are ill-defined and being set to 0.0 in labels with no predicted samples. Use `zero_division` parameter to control this behavior.\n",
      "  _warn_prf(average, modifier, msg_start, len(result))\n"
     ]
    }
   ],
   "source": [
    "y_true = []\n",
    "y_pred_probs = []\n",
    "model.eval()\n",
    "\n",
    "with torch.no_grad():\n",
    "    for idx, (inputs, labels) in enumerate(train_loader):\n",
    "        inputs = inputs.to(device)\n",
    "        labels = labels.to(device)\n",
    "        #optimizer.zero_grad()\n",
    "        preds = model(inputs.float())\n",
    "        loss = criterion(preds, labels.squeeze().long())\n",
    "        y_true.extend(labels.cpu().numpy())\n",
    "        y_pred_probs.extend(preds.detach().cpu().numpy())\n",
    "\n",
    "    y_true = np.array(y_true)\n",
    "    y_pred_probs = np.array(y_pred_probs)\n",
    "    class_names = [str(x) for x in range(1,7)]\n",
    "    report = classification_report(y_true, np.argmax(y_pred_probs, axis=1), target_names=class_names)\n",
    "    print(report)\n",
    "    accuracy = calculate_accuracy(y_true, y_pred_probs)\n",
    "\n",
    "    print(f'train_accuracy {accuracy}')"
   ]
  },
  {
   "cell_type": "code",
   "execution_count": null,
   "id": "cab39e0c-68fa-4c78-9506-fb3c7be6ce74",
   "metadata": {},
   "outputs": [],
   "source": [
    "Ы"
   ]
  }
 ],
 "metadata": {
  "kernelspec": {
   "display_name": "Python 3 (ipykernel)",
   "language": "python",
   "name": "python3"
  },
  "language_info": {
   "codemirror_mode": {
    "name": "ipython",
    "version": 3
   },
   "file_extension": ".py",
   "mimetype": "text/x-python",
   "name": "python",
   "nbconvert_exporter": "python",
   "pygments_lexer": "ipython3",
   "version": "3.8.10"
  }
 },
 "nbformat": 4,
 "nbformat_minor": 5
}
